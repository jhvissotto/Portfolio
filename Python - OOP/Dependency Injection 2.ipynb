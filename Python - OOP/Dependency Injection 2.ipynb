{
 "cells": [
  {
   "cell_type": "markdown",
   "metadata": {},
   "source": [
    "# Example 1"
   ]
  },
  {
   "cell_type": "code",
   "execution_count": 1,
   "metadata": {},
   "outputs": [],
   "source": [
    "class Class1:\n",
    "\n",
    "    def __init__(self, init1):\n",
    "        self.init1 = init1\n",
    "\n",
    "    def func1(self, arg1):\n",
    "        return [self.init1, arg1]"
   ]
  },
  {
   "cell_type": "code",
   "execution_count": 2,
   "metadata": {},
   "outputs": [],
   "source": [
    "class Class2:\n",
    "\n",
    "    def __init__(self, init2):\n",
    "        self.obj1 = Class1(init1=init2)\n",
    "\n",
    "    def func2(self, arg2):\n",
    "        return self.obj1.func1(arg1=arg2)"
   ]
  },
  {
   "cell_type": "code",
   "execution_count": 3,
   "metadata": {},
   "outputs": [
    {
     "data": {
      "text/plain": [
       "['init2', 'arg2']"
      ]
     },
     "execution_count": 3,
     "metadata": {},
     "output_type": "execute_result"
    }
   ],
   "source": [
    "obj2 = Class2('init2')\n",
    "obj2.func2('arg2')"
   ]
  },
  {
   "cell_type": "markdown",
   "metadata": {},
   "source": [
    "# Example 2"
   ]
  },
  {
   "cell_type": "code",
   "execution_count": 4,
   "metadata": {},
   "outputs": [],
   "source": [
    "class Class1:\n",
    "\n",
    "    def __init__(self, init1):\n",
    "        self.init1 = init1\n",
    "\n",
    "    def func1(self, arg1):\n",
    "        return [self.init1, arg1]"
   ]
  },
  {
   "cell_type": "code",
   "execution_count": null,
   "metadata": {},
   "outputs": [],
   "source": [
    "class Class2:\n",
    "\n",
    "    def __init__(self, obj1:Class1):\n",
    "        self.obj1 = obj1\n",
    "\n",
    "    def func2(self, arg2):\n",
    "        return self.obj1.func1(arg1=arg2)"
   ]
  },
  {
   "cell_type": "code",
   "execution_count": null,
   "metadata": {},
   "outputs": [
    {
     "data": {
      "text/plain": [
       "['init2', 'arg2']"
      ]
     },
     "execution_count": 6,
     "metadata": {},
     "output_type": "execute_result"
    }
   ],
   "source": [
    "obj1 = Class1('init2')\n",
    "obj2 = Class2(obj1=obj1)\n",
    "obj2.func2('arg2')"
   ]
  },
  {
   "cell_type": "markdown",
   "metadata": {},
   "source": [
    "# Example 3"
   ]
  },
  {
   "cell_type": "code",
   "execution_count": 7,
   "metadata": {},
   "outputs": [],
   "source": [
    "class Class1:\n",
    "\n",
    "    def __init__(self, init1):\n",
    "        self.init1 = init1\n",
    "\n",
    "    def func1(self, arg1):\n",
    "        return [self.init1, arg1]"
   ]
  },
  {
   "cell_type": "code",
   "execution_count": 8,
   "metadata": {},
   "outputs": [],
   "source": [
    "class Class2:\n",
    "\n",
    "    def __init__(self, init2, Class1:Class1):\n",
    "        self.obj1 = Class1(init1=init2)\n",
    "\n",
    "    def func2(self, arg2):\n",
    "        return self.obj1.func1(arg1=arg2)"
   ]
  },
  {
   "cell_type": "code",
   "execution_count": 9,
   "metadata": {},
   "outputs": [
    {
     "data": {
      "text/plain": [
       "['init2', 'arg2']"
      ]
     },
     "execution_count": 9,
     "metadata": {},
     "output_type": "execute_result"
    }
   ],
   "source": [
    "obj2 = Class2('init2', Class1=Class1)\n",
    "obj2.func2('arg2')"
   ]
  },
  {
   "cell_type": "markdown",
   "metadata": {},
   "source": [
    "# Example 4"
   ]
  },
  {
   "cell_type": "code",
   "execution_count": 10,
   "metadata": {},
   "outputs": [],
   "source": [
    "# !pip install inject"
   ]
  },
  {
   "cell_type": "code",
   "execution_count": 11,
   "metadata": {},
   "outputs": [],
   "source": [
    "import inject"
   ]
  },
  {
   "cell_type": "code",
   "execution_count": 12,
   "metadata": {},
   "outputs": [],
   "source": [
    "class Class1:\n",
    "\n",
    "    def __init__(self, init1):\n",
    "        self.init1 = init1\n",
    "\n",
    "    def func1(self, arg1):\n",
    "        return [self.init1, arg1]"
   ]
  },
  {
   "cell_type": "code",
   "execution_count": 13,
   "metadata": {},
   "outputs": [
    {
     "data": {
      "text/plain": [
       "<inject.Injector at 0x22fb137ae90>"
      ]
     },
     "execution_count": 13,
     "metadata": {},
     "output_type": "execute_result"
    }
   ],
   "source": [
    "def Lambda(x):\n",
    "    x.bind(Class1, Class1)\n",
    "\n",
    "if inject.is_configured():\n",
    "    inject.clear()\n",
    "\n",
    "inject.configure(Lambda)"
   ]
  },
  {
   "cell_type": "code",
   "execution_count": 14,
   "metadata": {},
   "outputs": [],
   "source": [
    "class Class2:\n",
    "    \n",
    "    @inject.autoparams()\n",
    "    def __init__(self, init2, Class1:Class1):\n",
    "        self.obj1 = Class1(init1=init2)\n",
    "\n",
    "    def func2(self, arg2):\n",
    "        return self.obj1.func1(arg1=arg2)"
   ]
  },
  {
   "cell_type": "code",
   "execution_count": 15,
   "metadata": {},
   "outputs": [
    {
     "data": {
      "text/plain": [
       "['init2', 'arg2']"
      ]
     },
     "execution_count": 15,
     "metadata": {},
     "output_type": "execute_result"
    }
   ],
   "source": [
    "obj2 = Class2('init2')\n",
    "obj2.func2('arg2')"
   ]
  },
  {
   "cell_type": "markdown",
   "metadata": {},
   "source": [
    "# Example 5"
   ]
  },
  {
   "cell_type": "code",
   "execution_count": 16,
   "metadata": {},
   "outputs": [],
   "source": [
    "# !pip install dependency-injector"
   ]
  },
  {
   "cell_type": "code",
   "execution_count": 17,
   "metadata": {},
   "outputs": [],
   "source": [
    "import dependency_injector.containers as di_containers\n",
    "import dependency_injector.providers  as di_providers"
   ]
  },
  {
   "cell_type": "code",
   "execution_count": 18,
   "metadata": {},
   "outputs": [],
   "source": [
    "class Class1:\n",
    "\n",
    "    def __init__(self, init1):\n",
    "        self.init1 = init1\n",
    "\n",
    "    def func1(self, arg1):\n",
    "        return [self.init1, arg1]"
   ]
  },
  {
   "cell_type": "code",
   "execution_count": 19,
   "metadata": {},
   "outputs": [],
   "source": [
    "class di_binder(di_containers.DeclarativeContainer):\n",
    "    Class1 = di_providers.Singleton(Class1)\n",
    "\n",
    "di_bind = di_binder()"
   ]
  },
  {
   "cell_type": "code",
   "execution_count": 20,
   "metadata": {},
   "outputs": [],
   "source": [
    "class Class2:\n",
    "    \n",
    "    def __init__(self, init2, Class1:Class1):\n",
    "        self.obj2 = Class1(init1=init2)\n",
    "\n",
    "    def func2(self, arg2):\n",
    "        return self.obj2.func1(arg1=arg2)"
   ]
  },
  {
   "cell_type": "code",
   "execution_count": 21,
   "metadata": {},
   "outputs": [
    {
     "data": {
      "text/plain": [
       "['init2', 'arg2']"
      ]
     },
     "execution_count": 21,
     "metadata": {},
     "output_type": "execute_result"
    }
   ],
   "source": [
    "obj2 = Class2('init2', Class1=di_bind.Class1)\n",
    "obj2.func2('arg2')"
   ]
  }
 ],
 "metadata": {
  "kernelspec": {
   "display_name": "base",
   "language": "python",
   "name": "python3"
  },
  "language_info": {
   "codemirror_mode": {
    "name": "ipython",
    "version": 3
   },
   "file_extension": ".py",
   "mimetype": "text/x-python",
   "name": "python",
   "nbconvert_exporter": "python",
   "pygments_lexer": "ipython3",
   "version": "3.11.11"
  }
 },
 "nbformat": 4,
 "nbformat_minor": 2
}
