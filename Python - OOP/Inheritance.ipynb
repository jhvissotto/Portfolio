{
 "cells": [
  {
   "cell_type": "markdown",
   "metadata": {},
   "source": [
    "# Example 1"
   ]
  },
  {
   "cell_type": "code",
   "execution_count": 1,
   "metadata": {},
   "outputs": [],
   "source": [
    "class Class1:\n",
    "    \n",
    "    prop1 = 'prop1'\n",
    "\n",
    "    # def __init__(self, init1='init1'):\n",
    "    #     self.init1 = init1\n",
    "\n",
    "    def func1(self):\n",
    "        return 'func1'"
   ]
  },
  {
   "cell_type": "code",
   "execution_count": 2,
   "metadata": {},
   "outputs": [],
   "source": [
    "class Class2(Class1):\n",
    "    \n",
    "    prop2 = 'prop2'\n",
    "\n",
    "    def __init__(self, init2='init2'):\n",
    "        self.init2 = init2\n",
    "\n",
    "    def func2(self):\n",
    "        return 'func2'"
   ]
  },
  {
   "cell_type": "code",
   "execution_count": 3,
   "metadata": {},
   "outputs": [
    {
     "data": {
      "text/plain": [
       "['prop1', 'func1', 'prop2', 'init2', 'func2']"
      ]
     },
     "execution_count": 3,
     "metadata": {},
     "output_type": "execute_result"
    }
   ],
   "source": [
    "obj2 = Class2()\n",
    "\n",
    "[obj2.prop1, obj2.func1(),  obj2.prop2, obj2.init2, obj2.func2()]"
   ]
  },
  {
   "cell_type": "markdown",
   "metadata": {},
   "source": [
    "# Example 2"
   ]
  },
  {
   "cell_type": "code",
   "execution_count": 4,
   "metadata": {},
   "outputs": [],
   "source": [
    "class Class1:\n",
    "\n",
    "    prop1 = 'prop1'\n",
    "\n",
    "    def __init__(self, init1='init1'):\n",
    "        self.init1 = init1\n",
    "\n",
    "    def func1(self, arg1='arg1'):\n",
    "        return [self.prop1, self.init1, arg1]"
   ]
  },
  {
   "cell_type": "code",
   "execution_count": null,
   "metadata": {},
   "outputs": [],
   "source": [
    "class Class2(Class1):\n",
    "\n",
    "    prop2 = 'prop2'\n",
    "\n",
    "    def __init__(self, init2='init2'):\n",
    "        super().__init__()\n",
    "        self.init2 = init2\n",
    "\n",
    "    def func2(self, arg2='arg2'):\n",
    "        return [self.prop1, self.init1, self.func1(),  self.prop2, self.init2, arg2]"
   ]
  },
  {
   "cell_type": "code",
   "execution_count": 6,
   "metadata": {},
   "outputs": [
    {
     "data": {
      "text/plain": [
       "['prop1', 'init1', ['prop1', 'init1', 'arg1'], 'prop2', 'init2', 'arg2']"
      ]
     },
     "execution_count": 6,
     "metadata": {},
     "output_type": "execute_result"
    }
   ],
   "source": [
    "Class2().func2()"
   ]
  }
 ],
 "metadata": {
  "kernelspec": {
   "display_name": "base",
   "language": "python",
   "name": "python3"
  },
  "language_info": {
   "codemirror_mode": {
    "name": "ipython",
    "version": 3
   },
   "file_extension": ".py",
   "mimetype": "text/x-python",
   "name": "python",
   "nbconvert_exporter": "python",
   "pygments_lexer": "ipython3",
   "version": "3.11.11"
  }
 },
 "nbformat": 4,
 "nbformat_minor": 2
}
