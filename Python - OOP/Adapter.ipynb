{
 "cells": [
  {
   "cell_type": "code",
   "execution_count": 1,
   "id": "ad8bda4b",
   "metadata": {},
   "outputs": [],
   "source": [
    "class Counter_1:\n",
    "    def __init__(x, inival: int):\n",
    "        x.initial = inival\n",
    "        x.value   = inival\n",
    "\n",
    "    def increment(x):    x.value += 1;          return x\n",
    "    def decrement(x):    x.value -= 1;          return x\n",
    "    def add(x, by:int):  x.value += by;         return x\n",
    "    def sub(x, by:int):  x.value -= by;         return x\n",
    "    def set(x, by:int):  x.value  = by;         return x\n",
    "    def reset(x):        x.value  = x.initial;  return x\n",
    "    def get(x):                                 return x.value"
   ]
  },
  {
   "cell_type": "code",
   "execution_count": 2,
   "id": "6c790f4b",
   "metadata": {},
   "outputs": [],
   "source": [
    "class Counter_2:\n",
    "    def __init__(x, inival:int, _Counter_1 = Counter_1):\n",
    "        x.counter_1 = _Counter_1(inival)\n",
    "\n",
    "    def increment(x):    x.counter_1.increment();   return x\n",
    "    def decrement(x):    x.counter_1.decrement();   return x\n",
    "    def add(x, by:int):  x.counter_1.add(by);       return x\n",
    "    def sub(x, by:int):  x.counter_1.sub(by);       return x\n",
    "    def set(x, by:int):  x.counter_1.set(by);       return x\n",
    "    def reset(x):        x.counter_1.reset();       return x\n",
    "    def get(x):                                     return x.counter_1.get()"
   ]
  },
  {
   "cell_type": "code",
   "execution_count": 3,
   "metadata": {},
   "outputs": [
    {
     "name": "stdout",
     "output_type": "stream",
     "text": [
      "90\n"
     ]
    }
   ],
   "source": [
    "counter2 = Counter_2(0)\n",
    "value    = counter2.add(100).sub(10).increment().decrement().get()\n",
    "print(value)"
   ]
  }
 ],
 "metadata": {
  "kernelspec": {
   "display_name": "base",
   "language": "python",
   "name": "python3"
  },
  "language_info": {
   "codemirror_mode": {
    "name": "ipython",
    "version": 3
   },
   "file_extension": ".py",
   "mimetype": "text/x-python",
   "name": "python",
   "nbconvert_exporter": "python",
   "pygments_lexer": "ipython3",
   "version": "3.11.11"
  }
 },
 "nbformat": 4,
 "nbformat_minor": 5
}
