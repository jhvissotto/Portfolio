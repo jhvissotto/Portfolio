{
 "cells": [
  {
   "cell_type": "markdown",
   "id": "681b14fa",
   "metadata": {},
   "source": [
    "# Chaining"
   ]
  },
  {
   "cell_type": "code",
   "execution_count": 1,
   "id": "f31fbef8",
   "metadata": {},
   "outputs": [],
   "source": [
    "class Counter():\n",
    "    def __init__(x, ini=0):\n",
    "        x.ini = ini\n",
    "        x.val = ini\n",
    "    def _set(x, new):  x.val  =  new\n",
    "    def reset(x):      x.val  =  x.ini\n",
    "    def increment(x):  x.val +=  1;  return x\n",
    "    def decrement(x):  x.val -=  1;  return x\n",
    "    def add(x, by):    x.val += by;  return x\n",
    "    def sub(x, by):    x.val -= by;  return x\n",
    "    def _get(x):                     return x.val"
   ]
  },
  {
   "cell_type": "code",
   "execution_count": 2,
   "id": "53c9f4fe",
   "metadata": {},
   "outputs": [
    {
     "data": {
      "text/plain": [
       "90"
      ]
     },
     "execution_count": 2,
     "metadata": {},
     "output_type": "execute_result"
    }
   ],
   "source": [
    "counter = Counter(0)\n",
    "counter.add(100).sub(10).increment().decrement()._get()"
   ]
  }
 ],
 "metadata": {
  "kernelspec": {
   "display_name": "base",
   "language": "python",
   "name": "python3"
  },
  "language_info": {
   "codemirror_mode": {
    "name": "ipython",
    "version": 3
   },
   "file_extension": ".py",
   "mimetype": "text/x-python",
   "name": "python",
   "nbconvert_exporter": "python",
   "pygments_lexer": "ipython3",
   "version": "3.11.11"
  }
 },
 "nbformat": 4,
 "nbformat_minor": 5
}
