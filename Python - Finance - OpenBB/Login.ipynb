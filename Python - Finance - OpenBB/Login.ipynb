{
 "cells": [
  {
   "cell_type": "markdown",
   "metadata": {},
   "source": [
    "# API keys"
   ]
  },
  {
   "cell_type": "markdown",
   "metadata": {},
   "source": [
    "1. OpenBB Hub"
   ]
  },
  {
   "cell_type": "code",
   "execution_count": null,
   "metadata": {},
   "outputs": [],
   "source": [
    "from openbb import obb\n",
    "obb.account.login(pat='OPENBB_PAT')\n",
    "\n",
    "# Persist changes in OpenBB Hub\n",
    "obb.account.save()"
   ]
  },
  {
   "cell_type": "markdown",
   "metadata": {},
   "source": [
    "2. Runtime"
   ]
  },
  {
   "cell_type": "code",
   "execution_count": null,
   "metadata": {},
   "outputs": [],
   "source": [
    "from openbb import obb\n",
    "obb.user.credentials.fmp_api_key     = 'REPLACE_ME'\n",
    "obb.user.credentials.polygon_api_key = 'REPLACE_ME'\n",
    "\n",
    "# Persist changes in ~/.openbb_platform/user_settings.json\n",
    "obb.account.save()"
   ]
  },
  {
   "cell_type": "markdown",
   "metadata": {},
   "source": [
    "3. Local file"
   ]
  },
  {
   "cell_type": "code",
   "execution_count": null,
   "metadata": {},
   "outputs": [],
   "source": [
    "{\n",
    "  'credentials': {\n",
    "    'fmp_api_key':      'REPLACE_ME',\n",
    "    'polygon_api_key':  'REPLACE_ME',\n",
    "    'benzinga_api_key': 'REPLACE_ME',\n",
    "    'fred_api_key':     'REPLACE_ME'\n",
    "  }\n",
    "}"
   ]
  }
 ],
 "metadata": {
  "language_info": {
   "name": "python"
  }
 },
 "nbformat": 4,
 "nbformat_minor": 2
}
