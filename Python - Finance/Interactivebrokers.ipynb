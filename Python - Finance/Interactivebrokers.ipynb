{
 "cells": [
  {
   "cell_type": "code",
   "execution_count": null,
   "metadata": {},
   "outputs": [],
   "source": [
    "# !pip install ib_insync"
   ]
  },
  {
   "cell_type": "code",
   "execution_count": null,
   "metadata": {},
   "outputs": [],
   "source": [
    "import ib_insync as IBrk"
   ]
  },
  {
   "cell_type": "markdown",
   "metadata": {},
   "source": [
    "# Connect"
   ]
  },
  {
   "cell_type": "code",
   "execution_count": null,
   "metadata": {},
   "outputs": [],
   "source": [
    "IBrk.util.startLoop()\n",
    "ib = IBrk.IB()\n",
    "\n",
    "try:    ib.connect()\n",
    "except: ib.connect(port=4002)"
   ]
  },
  {
   "cell_type": "markdown",
   "metadata": {},
   "source": [
    "# Orders"
   ]
  },
  {
   "cell_type": "code",
   "execution_count": null,
   "metadata": {},
   "outputs": [],
   "source": [
    "ib.openTrades()"
   ]
  },
  {
   "cell_type": "markdown",
   "metadata": {},
   "source": [
    "# Positions"
   ]
  },
  {
   "cell_type": "code",
   "execution_count": null,
   "metadata": {},
   "outputs": [],
   "source": [
    "ib.positions()"
   ]
  },
  {
   "cell_type": "markdown",
   "metadata": {},
   "source": [
    "# Market Order"
   ]
  },
  {
   "cell_type": "code",
   "execution_count": null,
   "metadata": {},
   "outputs": [],
   "source": [
    "ib.placeOrder(\n",
    "    IBrk.Stock(symbol='MSFT', exchange='SMART', currency='USD'),\n",
    "    IBrk.MarketOrder(action='BUY', totalQuantity=100)\n",
    ")"
   ]
  },
  {
   "cell_type": "markdown",
   "metadata": {},
   "source": [
    "# Limit Order"
   ]
  },
  {
   "cell_type": "code",
   "execution_count": null,
   "metadata": {},
   "outputs": [],
   "source": [
    "ib.placeOrder(\n",
    "    IBrk.Stock(symbol='MSFT', exchange='SMART', currency='USD'),\n",
    "    IBrk.LimitOrder(action='BUY', totalQuantity=100, lmtPrice=123.45)\n",
    ")"
   ]
  },
  {
   "cell_type": "markdown",
   "metadata": {},
   "source": [
    "# Iron Condor"
   ]
  },
  {
   "cell_type": "code",
   "execution_count": null,
   "metadata": {},
   "outputs": [],
   "source": [
    "TICKER, EXP = 'MSFT', '2025-01-01'\n",
    "\n",
    "CB_Stk, CB_Prm = 120,  5.00\n",
    "CS_Stk, CS_Prm = 110, 10.00\n",
    "PS_Stk, PS_Prm =  90, 10.00\n",
    "PB_Stk, PB_Prm =  80,  5.00\n",
    "\n",
    "quant = 1.00\n",
    "limit = round(- CB_Prm + CS_Prm + PS_Prm - PB_Prm, 2)"
   ]
  },
  {
   "cell_type": "code",
   "execution_count": null,
   "metadata": {},
   "outputs": [],
   "source": [
    "cons = [\n",
    "    IBrk.Option(TICKER, EXP.replace('-',''), strike=CB_Stk, right='C', exchange='SMART', currency='USD'), \n",
    "    IBrk.Option(TICKER, EXP.replace('-',''), strike=CS_Stk, right='C', exchange='SMART', currency='USD'), \n",
    "    IBrk.Option(TICKER, EXP.replace('-',''), strike=PS_Stk, right='P', exchange='SMART', currency='USD'), \n",
    "    IBrk.Option(TICKER, EXP.replace('-',''), strike=PB_Stk, right='P', exchange='SMART', currency='USD'), \n",
    "]\n",
    "\n",
    "qualify = ib.qualifyContracts(*cons)\n",
    "if (len(qualify) == 4):\n",
    "\n",
    "    ib.placeOrder(IBrk.Contract(exchange='SMART', symbol=TICKER, currency='USD', secType='BAG', comboLegs=[\n",
    "        IBrk.ComboLeg(cons[0].conId, ratio=1, action='BUY',  exchange='SMART'), \n",
    "        IBrk.ComboLeg(cons[1].conId, ratio=1, action='SELL', exchange='SMART'), \n",
    "        IBrk.ComboLeg(cons[2].conId, ratio=1, action='SELL', exchange='SMART'), \n",
    "        IBrk.ComboLeg(cons[3].conId, ratio=1, action='BUY',  exchange='SMART'), \n",
    "    ]), IBrk.Order(action='BUY', totalQuantity=quant, orderType='LMT', lmtPrice=limit, transmit=True))"
   ]
  },
  {
   "cell_type": "markdown",
   "metadata": {},
   "source": [
    "# Close Equity Positions"
   ]
  },
  {
   "cell_type": "code",
   "execution_count": null,
   "metadata": {},
   "outputs": [],
   "source": [
    "for P in ib.positions():\n",
    "    if (P.contract.secType=='STK'): \n",
    "\n",
    "        # ================ Cancel Orders ================ #\n",
    "        for T in ib.openTrades(): \n",
    "            if (T.contract.secType=='STK') and (T.contract.symbol==P.contract.symbol):\n",
    "                ib.cancelOrder(T.order)\n",
    "\n",
    "        # ================ Close Positions ================ #\n",
    "        con = P.contract\n",
    "        con.exchange = 'SMART'\n",
    "\n",
    "        if (0 < P.position):  ib.placeOrder(con, IBrk.MarketOrder('SELL', abs(P.position)))\n",
    "        if (P.position < 0):  ib.placeOrder(con, IBrk.MarketOrder('BUY',  abs(P.position)))\n",
    "    pass\n",
    "pass"
   ]
  }
 ],
 "metadata": {
  "kernelspec": {
   "display_name": "base",
   "language": "python",
   "name": "python3"
  },
  "language_info": {
   "codemirror_mode": {
    "name": "ipython",
    "version": 3
   },
   "file_extension": ".py",
   "mimetype": "text/x-python",
   "name": "python",
   "nbconvert_exporter": "python",
   "pygments_lexer": "ipython3",
   "version": "3.11.11"
  },
  "polyglot_notebook": {
   "kernelInfo": {
    "defaultKernelName": "csharp",
    "items": [
     {
      "aliases": [],
      "name": "csharp"
     }
    ]
   }
  }
 },
 "nbformat": 4,
 "nbformat_minor": 2
}
