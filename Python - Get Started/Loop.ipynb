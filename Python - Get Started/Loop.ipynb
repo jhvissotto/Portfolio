{
 "cells": [
  {
   "cell_type": "code",
   "execution_count": 1,
   "id": "aaad1b35",
   "metadata": {},
   "outputs": [
    {
     "name": "stdout",
     "output_type": "stream",
     "text": [
      "0\n",
      "1\n",
      "2\n",
      "3\n",
      "4\n"
     ]
    }
   ],
   "source": [
    "for x in range(5):\n",
    "    print(x)"
   ]
  },
  {
   "cell_type": "code",
   "execution_count": 2,
   "id": "d221e536",
   "metadata": {},
   "outputs": [],
   "source": [
    "pipe = []\n",
    "for x in range(5):\n",
    "    pipe.append(x)"
   ]
  },
  {
   "cell_type": "code",
   "execution_count": 3,
   "id": "e31dfa8f",
   "metadata": {},
   "outputs": [
    {
     "name": "stdout",
     "output_type": "stream",
     "text": [
      "0 10 AA\n",
      "1 20 BB\n",
      "2 30 CC\n"
     ]
    }
   ],
   "source": [
    "X = { 10:'AA', 20:'BB', 30:'CC'}\n",
    "\n",
    "for i, (k, v) in enumerate(X.items()):\n",
    "    print(i, k, v)"
   ]
  }
 ],
 "metadata": {
  "kernelspec": {
   "display_name": "base",
   "language": "python",
   "name": "python3"
  },
  "language_info": {
   "codemirror_mode": {
    "name": "ipython",
    "version": 3
   },
   "file_extension": ".py",
   "mimetype": "text/x-python",
   "name": "python",
   "nbconvert_exporter": "python",
   "pygments_lexer": "ipython3",
   "version": "3.11.11"
  }
 },
 "nbformat": 4,
 "nbformat_minor": 5
}
