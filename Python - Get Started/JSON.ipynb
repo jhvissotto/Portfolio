{
 "cells": [
  {
   "cell_type": "code",
   "execution_count": 1,
   "id": "6a689dc8",
   "metadata": {},
   "outputs": [],
   "source": [
    "import json\n",
    "from numpy import nan"
   ]
  },
  {
   "cell_type": "code",
   "execution_count": 2,
   "metadata": {},
   "outputs": [
    {
     "data": {
      "text/plain": [
       "'[{\"bool\": null, \"value\": NaN, \"text\": \"AAA\"}, {\"bool\": false, \"value\": 123, \"text\": \"BBB\"}, {\"bool\": true, \"value\": 456, \"text\": \"CCC\"}]'"
      ]
     },
     "execution_count": 2,
     "metadata": {},
     "output_type": "execute_result"
    }
   ],
   "source": [
    "A = json.dumps([\n",
    "    { 'bool':None,  'value':nan, 'text':'AAA' }, \n",
    "    { 'bool':False, 'value':123, 'text':'BBB' }, \n",
    "    { 'bool':True,  'value':456, 'text':'CCC' }, \n",
    "])\n",
    "\n",
    "A"
   ]
  },
  {
   "cell_type": "code",
   "execution_count": 3,
   "id": "416f2a50",
   "metadata": {},
   "outputs": [
    {
     "data": {
      "text/plain": [
       "[{'bool': None, 'value': nan, 'text': 'AAA'},\n",
       " {'bool': False, 'value': 123, 'text': 'BBB'},\n",
       " {'bool': True, 'value': 456, 'text': 'CCC'}]"
      ]
     },
     "execution_count": 3,
     "metadata": {},
     "output_type": "execute_result"
    }
   ],
   "source": [
    "B = json.loads('[{\"bool\": null, \"value\": NaN, \"text\": \"AAA\"}, {\"bool\": false, \"value\": 123, \"text\": \"BBB\"}, {\"bool\": true, \"value\": 456, \"text\": \"CCC\"}]')\n",
    "\n",
    "B"
   ]
  }
 ],
 "metadata": {
  "kernelspec": {
   "display_name": "base",
   "language": "python",
   "name": "python3"
  },
  "language_info": {
   "codemirror_mode": {
    "name": "ipython",
    "version": 3
   },
   "file_extension": ".py",
   "mimetype": "text/x-python",
   "name": "python",
   "nbconvert_exporter": "python",
   "pygments_lexer": "ipython3",
   "version": "3.11.11"
  }
 },
 "nbformat": 4,
 "nbformat_minor": 5
}
