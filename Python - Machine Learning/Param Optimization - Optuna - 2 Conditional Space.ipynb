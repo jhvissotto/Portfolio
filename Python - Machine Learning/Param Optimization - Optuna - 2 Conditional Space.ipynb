{
 "cells": [
  {
   "cell_type": "code",
   "execution_count": null,
   "metadata": {},
   "outputs": [],
   "source": [
    "import optuna"
   ]
  },
  {
   "cell_type": "markdown",
   "metadata": {},
   "source": [
    "# Method 1"
   ]
  },
  {
   "cell_type": "code",
   "execution_count": null,
   "metadata": {},
   "outputs": [],
   "source": [
    "def func1(A, B): \n",
    "    calc = [\n",
    "        [10, 20, 30], \n",
    "        [40, 50, 60], \n",
    "        [70, 80, 90], \n",
    "    ]\n",
    "    return calc[A][B]\n",
    "\n",
    "\n",
    "def func2(trial): \n",
    "    A = trial.suggest_categorical('A', [0,1,2])\n",
    "    if (A == 0):  B = trial.suggest_int('B', 0, 0)\n",
    "    if (A == 1):  B = trial.suggest_int('B', 0, 1)\n",
    "    if (A == 2):  B = trial.suggest_int('B', 0, 2)\n",
    "    return func1(A, B)\n",
    "\n",
    "\n",
    "study = optuna.create_study(direction='maximize')\n",
    "study.optimize(func2, n_trials=10)"
   ]
  },
  {
   "cell_type": "markdown",
   "metadata": {},
   "source": [
    "# Method 2"
   ]
  },
  {
   "cell_type": "code",
   "execution_count": null,
   "metadata": {},
   "outputs": [],
   "source": [
    "def func1(A, B): \n",
    "    calc = [\n",
    "        [10, 20, 30], \n",
    "        [40, 50, 60], \n",
    "        [70, 80, 90], \n",
    "    ]\n",
    "    return calc[A][B]\n",
    "\n",
    "\n",
    "def func2(trial): \n",
    "    A = trial.suggest_categorical('A', [0,1,2])\n",
    "    B = trial.suggest_categorical('B', [0,1,2])  \n",
    "    if (A == 0) and (B not in [0]):     return float('-inf')  \n",
    "    if (A == 1) and (B not in [0,1]):   return float('-inf')\n",
    "    if (A == 2) and (B not in [0,1,2]): return float('-inf')\n",
    "    return func1(A, B)\n",
    "\n",
    "\n",
    "study = optuna.create_study(direction='maximize')\n",
    "study.optimize(func2, n_trials=100)"
   ]
  }
 ],
 "metadata": {
  "kernelspec": {
   "display_name": "base",
   "language": "python",
   "name": "python3"
  },
  "language_info": {
   "codemirror_mode": {
    "name": "ipython",
    "version": 3
   },
   "file_extension": ".py",
   "mimetype": "text/x-python",
   "name": "python",
   "nbconvert_exporter": "python",
   "pygments_lexer": "ipython3",
   "version": "3.11.11"
  }
 },
 "nbformat": 4,
 "nbformat_minor": 2
}
