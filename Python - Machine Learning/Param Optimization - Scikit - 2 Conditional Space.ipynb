{
 "cells": [
  {
   "cell_type": "code",
   "execution_count": null,
   "metadata": {},
   "outputs": [],
   "source": [
    "import skopt"
   ]
  },
  {
   "cell_type": "code",
   "execution_count": null,
   "metadata": {},
   "outputs": [],
   "source": [
    "def func1(A, B): \n",
    "    calc = [\n",
    "        [10, 20, 30], \n",
    "        [40, 50, 60], \n",
    "        [70, 80, 90], \n",
    "    ]\n",
    "    return calc[A][B]\n",
    "\n",
    "\n",
    "space = [\n",
    "    skopt.space.Categorical([0,1,2], name='A'),\n",
    "    skopt.space.Categorical([0,1,2], name='B'),\n",
    "]\n",
    "\n",
    "\n",
    "@skopt.utils.use_named_args(space)\n",
    "def func2(A, B):\n",
    "    if (A == 0) and (B not in [0]):         return -1e10\n",
    "    if (A == 1) and (B not in [0, 1]):      return -1e10\n",
    "    if (A == 2) and (B not in [0, 1, 2]):   return -1e10\n",
    "    return func1(A, B)\n",
    "\n",
    "\n",
    "results = skopt.gp_minimize(func2, space, n_calls=10)\n",
    "results"
   ]
  }
 ],
 "metadata": {
  "kernelspec": {
   "display_name": "base",
   "language": "python",
   "name": "python3"
  },
  "language_info": {
   "codemirror_mode": {
    "name": "ipython",
    "version": 3
   },
   "file_extension": ".py",
   "mimetype": "text/x-python",
   "name": "python",
   "nbconvert_exporter": "python",
   "pygments_lexer": "ipython3",
   "version": "3.11.11"
  }
 },
 "nbformat": 4,
 "nbformat_minor": 2
}
