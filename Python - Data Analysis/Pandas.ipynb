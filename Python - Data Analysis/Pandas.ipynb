{
 "cells": [
  {
   "cell_type": "code",
   "execution_count": null,
   "metadata": {},
   "outputs": [],
   "source": [
    "# !pip install pandas"
   ]
  },
  {
   "cell_type": "code",
   "execution_count": null,
   "metadata": {},
   "outputs": [],
   "source": [
    "import pandas as pd"
   ]
  },
  {
   "cell_type": "markdown",
   "metadata": {},
   "source": [
    "# Configs"
   ]
  },
  {
   "cell_type": "code",
   "execution_count": null,
   "metadata": {},
   "outputs": [],
   "source": [
    "pd.set_option('display.width',       None)\n",
    "pd.set_option('display.max_columns', None)"
   ]
  },
  {
   "cell_type": "markdown",
   "metadata": {},
   "source": [
    "# Input"
   ]
  },
  {
   "cell_type": "code",
   "execution_count": null,
   "metadata": {},
   "outputs": [],
   "source": [
    "pd.DataFrame({ 'X':[10,20,30], 'Y':[40,50,60] })"
   ]
  },
  {
   "cell_type": "code",
   "execution_count": null,
   "metadata": {},
   "outputs": [],
   "source": [
    "pd.DataFrame(index=['A','B','C'], columns=['X','Y'], data=[[10,40],[20,50],[30,60]])"
   ]
  },
  {
   "cell_type": "code",
   "execution_count": null,
   "metadata": {},
   "outputs": [],
   "source": [
    "Data = pd.DataFrame()\n",
    "Data.index = ['A','B','C']\n",
    "Data['X']  = [10,20,30]\n",
    "Data['Y']  = [40,50,60]\n",
    "Data"
   ]
  },
  {
   "cell_type": "markdown",
   "metadata": {},
   "source": [
    "# Cast"
   ]
  },
  {
   "cell_type": "code",
   "execution_count": null,
   "metadata": {},
   "outputs": [],
   "source": [
    "Data = pd.DataFrame()\n",
    "Data['X'] = pd.to_numeric(['100','200','300'])\n",
    "Data['Y'] = pd.to_numeric(['nan','None','-'], errors='coerce')\n",
    "Data"
   ]
  },
  {
   "cell_type": "markdown",
   "metadata": {},
   "source": [
    "# Reverse"
   ]
  },
  {
   "cell_type": "code",
   "execution_count": null,
   "metadata": {},
   "outputs": [],
   "source": [
    "Data = pd.DataFrame({ 'X':['X1','X2','X3'], 'Y':['Y1','Y2','Y3'] })\n",
    "Data[::-1].reset_index(drop=1)"
   ]
  },
  {
   "cell_type": "markdown",
   "metadata": {},
   "source": [
    "# Columns"
   ]
  },
  {
   "cell_type": "code",
   "execution_count": null,
   "metadata": {},
   "outputs": [],
   "source": [
    "Data = pd.DataFrame({\n",
    "    'A': ['A1','A2','A3','A4','A5'], \n",
    "    'B': ['B1','B2','B3','B4','B5'], \n",
    "    'C': ['C1','C2','C3','C4','C5'], \n",
    "    'D': ['D1','D2','D3','D4','D5'], \n",
    "    'E': ['E1','E2','E3','E4','E5'], \n",
    "})"
   ]
  },
  {
   "cell_type": "code",
   "execution_count": null,
   "metadata": {},
   "outputs": [],
   "source": [
    "list(Data.columns)"
   ]
  },
  {
   "cell_type": "code",
   "execution_count": null,
   "metadata": {},
   "outputs": [],
   "source": [
    "for col in Data:\n",
    "    print(col)"
   ]
  },
  {
   "cell_type": "code",
   "execution_count": null,
   "metadata": {},
   "outputs": [],
   "source": [
    "Data[['A','E']]"
   ]
  },
  {
   "cell_type": "code",
   "execution_count": null,
   "metadata": {},
   "outputs": [],
   "source": [
    "Data.loc[:, 'B':'D']"
   ]
  },
  {
   "cell_type": "markdown",
   "metadata": {},
   "source": [
    "# Unions"
   ]
  },
  {
   "cell_type": "code",
   "execution_count": null,
   "metadata": {},
   "outputs": [],
   "source": [
    "Data1 = pd.DataFrame({ 'A':['A1','A2','A3'], 'B':['B1','B2','B3'] })\n",
    "Data2 = pd.DataFrame({ 'C':['C1','C2','C3'], 'D':['D1','D2','D3'] })\n",
    "\n",
    "pd.concat([Data1, Data2], axis=1)"
   ]
  },
  {
   "cell_type": "code",
   "execution_count": null,
   "metadata": {},
   "outputs": [],
   "source": [
    "Data1 = pd.DataFrame({ 'X':[10,20], 'Y':[30,40] })\n",
    "Data2 = pd.DataFrame({ 'X':[50,60], 'Y':[70,80] })\n",
    "\n",
    "pd.concat([Data1, Data2], ignore_index=True)"
   ]
  },
  {
   "cell_type": "markdown",
   "metadata": {},
   "source": [
    "# Slice"
   ]
  },
  {
   "cell_type": "code",
   "execution_count": null,
   "metadata": {},
   "outputs": [],
   "source": [
    "Data = pd.DataFrame({ 'X':[10,20,30,40,50], 'Y':[100,200,300,400,500] })"
   ]
  },
  {
   "cell_type": "code",
   "execution_count": null,
   "metadata": {},
   "outputs": [],
   "source": [
    "Data.head(3)"
   ]
  },
  {
   "cell_type": "code",
   "execution_count": null,
   "metadata": {},
   "outputs": [],
   "source": [
    "Data.tail(3)"
   ]
  },
  {
   "cell_type": "markdown",
   "metadata": {},
   "source": [
    "# Filter"
   ]
  },
  {
   "cell_type": "code",
   "execution_count": null,
   "metadata": {},
   "outputs": [],
   "source": [
    "Data = pd.DataFrame({ 'X':['X1','X2','X3'], 'Y':['Y1','Y2','Y3'] })"
   ]
  },
  {
   "cell_type": "code",
   "execution_count": null,
   "metadata": {},
   "outputs": [],
   "source": [
    "Data[(Data['X']=='X2') & (Data['Y']=='Y2')] .reset_index(drop=1)"
   ]
  },
  {
   "cell_type": "code",
   "execution_count": null,
   "metadata": {},
   "outputs": [],
   "source": [
    "Data[(Data[['X','Y']] == ['X2','Y2']).all(axis=1)] .reset_index(drop=1)"
   ]
  },
  {
   "cell_type": "markdown",
   "metadata": {},
   "source": [
    "# Operations"
   ]
  },
  {
   "cell_type": "code",
   "execution_count": null,
   "metadata": {},
   "outputs": [],
   "source": [
    "Data = pd.DataFrame({ 'X':[10,20,30], 'Y':[40,50,60] })\n",
    "\n",
    "Data['Avg 1'] = (Data['X'] + Data['Y']).div(2)\n",
    "Data['Avg 2'] =  Data[['X','Y']].mean(axis=1)\n",
    "Data"
   ]
  },
  {
   "cell_type": "markdown",
   "metadata": {},
   "source": [
    "# Totals"
   ]
  },
  {
   "cell_type": "code",
   "execution_count": null,
   "metadata": {},
   "outputs": [],
   "source": [
    "Data = pd.DataFrame({ 'X':[10,20,30], 'Y':[40,50,60] })\n",
    "\n",
    "Data['X'].sum()\n",
    "Data['X'].prod()\n",
    "\n",
    "Data['Y'].mean()\n",
    "Data['Y'].median()"
   ]
  },
  {
   "cell_type": "markdown",
   "metadata": {},
   "source": [
    "# Ranks"
   ]
  },
  {
   "cell_type": "code",
   "execution_count": null,
   "metadata": {},
   "outputs": [],
   "source": [
    "Data = pd.DataFrame({ 'X':[100,200,300,400,500] })\n",
    "Data['Rank Asc']  = Data['X'].rank(ascending=True)  .astype(int)\n",
    "Data['Rank Desc'] = Data['X'].rank(ascending=False) .astype(int)\n",
    "Data"
   ]
  },
  {
   "cell_type": "markdown",
   "metadata": {},
   "source": [
    "# Loopings"
   ]
  },
  {
   "cell_type": "code",
   "execution_count": null,
   "metadata": {},
   "outputs": [],
   "source": [
    "Data = pd.DataFrame({ 'X':[10,20,30], 'Y':[40,50,60] })"
   ]
  },
  {
   "cell_type": "code",
   "execution_count": null,
   "metadata": {},
   "outputs": [],
   "source": [
    "for i, row in Data.iterrows():\n",
    "    print(i, row['X'], row['Y'])"
   ]
  },
  {
   "cell_type": "code",
   "execution_count": null,
   "metadata": {},
   "outputs": [],
   "source": [
    "pipe = []\n",
    "for i, row in Data.iterrows():\n",
    "    pipe.append({\n",
    "        'Acum X': Data['X'][:i+1].sum(), \n",
    "        'Acum Y': Data['Y'][:i+1].mean(), \n",
    "    })\n",
    "pass\n",
    "\n",
    "pd.DataFrame(pipe)"
   ]
  },
  {
   "cell_type": "markdown",
   "metadata": {},
   "source": [
    "# Rolling Functions"
   ]
  },
  {
   "cell_type": "code",
   "execution_count": null,
   "metadata": {},
   "outputs": [],
   "source": [
    "Data = pd.DataFrame({ 'X':[10,20,30,40,50] })\n",
    "Data['Dif'] = Data['X'].diff()\n",
    "Data['Var'] = Data['X'].pct_change().mul(100).round(1)\n",
    "Data['Cum'] = Data['X'].cumsum()\n",
    "Data"
   ]
  },
  {
   "cell_type": "code",
   "execution_count": null,
   "metadata": {},
   "outputs": [],
   "source": [
    "Data = pd.DataFrame({ 'X':[10,20,30,40,50], 'Y':[100,200,300,400,500] })\n",
    "\n",
    "Data['Avg'] = Data['X'].rolling(3, min_periods=1).mean()\n",
    "Data['Med'] = Data['Y'].rolling(3, min_periods=1).median()\n",
    "Data"
   ]
  },
  {
   "cell_type": "markdown",
   "metadata": {},
   "source": [
    "# Grouping"
   ]
  },
  {
   "cell_type": "code",
   "execution_count": null,
   "metadata": {},
   "outputs": [],
   "source": [
    "Data = pd.DataFrame()\n",
    "Data['By'] = ['A','A','A','A','A','B','B','B','B','B']\n",
    "Data['X']  = [ 10, 20, 30, 40, 50, 60, 70, 80, 90,100]"
   ]
  },
  {
   "cell_type": "code",
   "execution_count": null,
   "metadata": {},
   "outputs": [],
   "source": [
    "Data['Avg'] = Data.groupby('By', sort=0)['X'].rolling(3, min_periods=1).mean()   .reset_index(0, drop=1)\n",
    "Data['Med'] = Data.groupby('By', sort=0)['X'].rolling(3, min_periods=1).median() .reset_index(0, drop=1)\n",
    "Data"
   ]
  },
  {
   "cell_type": "code",
   "execution_count": null,
   "metadata": {},
   "outputs": [],
   "source": [
    "Data['Rank Asc']  = Data.groupby('By', sort=0)['X'].rank(ascending=True)  .astype(int)\n",
    "Data['Rank Desc'] = Data.groupby('By', sort=0)['X'].rank(ascending=False) .astype(int)\n",
    "Data"
   ]
  },
  {
   "cell_type": "code",
   "execution_count": null,
   "metadata": {},
   "outputs": [],
   "source": [
    "pipe = []\n",
    "for BY, Sec in Data.groupby('By', sort=0):\n",
    "    pipe.append({ \n",
    "        'By':  BY, \n",
    "        'Min': Sec['X'].min(), \n",
    "        'Avg': Sec['X'].median(), \n",
    "        'Max': Sec['X'].max(), \n",
    "    })\n",
    "pass\n",
    "pd.DataFrame(pipe)"
   ]
  }
 ],
 "metadata": {
  "kernelspec": {
   "display_name": "base",
   "language": "python",
   "name": "python3"
  },
  "language_info": {
   "codemirror_mode": {
    "name": "ipython",
    "version": 3
   },
   "file_extension": ".py",
   "mimetype": "text/x-python",
   "name": "python",
   "nbconvert_exporter": "python",
   "pygments_lexer": "ipython3",
   "version": "3.11.11"
  }
 },
 "nbformat": 4,
 "nbformat_minor": 2
}
